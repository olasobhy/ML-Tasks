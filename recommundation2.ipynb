{
 "cells": [
  {
   "cell_type": "code",
   "execution_count": 2,
   "id": "829ae775",
   "metadata": {},
   "outputs": [],
   "source": [
    "import pandas as pd\n",
    "from sklearn.preprocessing import LabelEncoder\n",
    "from sklearn.metrics.pairwise import cosine_similarity"
   ]
  },
  {
   "cell_type": "code",
   "execution_count": 36,
   "id": "18b1ca83",
   "metadata": {},
   "outputs": [],
   "source": [
    "dic = {\n",
    "    'property-id': [1, 2, 3, 4, 5, 6, 7, 8],\n",
    "    'purpose': ['rent', 'sale', 'rent', 'sale', 'sale', 'rent', 'rent', 'rent'],\n",
    "    'type': ['flat', 'house', 'shop', 'flat', 'house', 'shop', 'flat', 'flat'],\n",
    "    'price': [8000, 2000000, 5000, 900000, 3000000, 4000, 9000, 7000],\n",
    "    'area': [100, 400, 60, 120, 500, 50, 150, 90],\n",
    "    'bedroom': [2, 6, 0, 3, 7, 0, 3, 2],\n",
    "    'bathroom': [1, 2, 0, 2, 3, 0, 2, 1]\n",
    "}\n",
    "\n",
    "df = pd.DataFrame(dic)\n",
    "\n",
    "encoder = LabelEncoder()\n",
    "df['purpose'] = encoder.fit_transform(df['purpose'])\n",
    "df['type'] = encoder.fit_transform(df['type'])\n",
    "\n",
    "features = df.drop(columns=['property-id'])\n",
    "property_ids = df['property-id']"
   ]
  },
  {
   "cell_type": "code",
   "execution_count": 37,
   "id": "f1356182",
   "metadata": {},
   "outputs": [
    {
     "name": "stdout",
     "output_type": "stream",
     "text": [
      "Properties similar to Property ID 5:\n",
      "   property-id  similarity\n",
      "1            2    1.000000\n",
      "3            4    1.000000\n",
      "2            3    0.999930\n",
      "0            1    0.999924\n"
     ]
    }
   ],
   "source": [
    "def find_similar_properties(property_id, df, features):\n",
    "    target_index = df[df['property-id'] == property_id].index[0]\n",
    "    target_features = features.iloc[target_index].values.reshape(1, -1)\n",
    "    \n",
    "    similarity_matrix = cosine_similarity(features, target_features)\n",
    "    \n",
    "    similarity_df = pd.DataFrame({\n",
    "        'property-id': property_ids,\n",
    "        'similarity': similarity_matrix.flatten()\n",
    "    })\n",
    "    \n",
    "   \n",
    "    similar_properties = similarity_df[similarity_df['property-id'] != property_id].sort_values(by='similarity', ascending=False)\n",
    "    \n",
    "    return similar_properties\n",
    "\n",
    "i = 5\n",
    "similar_properties = find_similar_properties(i, df, features)\n",
    "print(f\"Properties similar to Property ID {i}:\")\n",
    "print(similar_properties[:4])\n",
    "  "
   ]
  },
  {
   "cell_type": "code",
   "execution_count": null,
   "id": "fd9a552f",
   "metadata": {},
   "outputs": [],
   "source": []
  }
 ],
 "metadata": {
  "kernelspec": {
   "display_name": "Python 3 (ipykernel)",
   "language": "python",
   "name": "python3"
  },
  "language_info": {
   "codemirror_mode": {
    "name": "ipython",
    "version": 3
   },
   "file_extension": ".py",
   "mimetype": "text/x-python",
   "name": "python",
   "nbconvert_exporter": "python",
   "pygments_lexer": "ipython3",
   "version": "3.9.12"
  }
 },
 "nbformat": 4,
 "nbformat_minor": 5
}
